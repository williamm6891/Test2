{
  "nbformat": 4,
  "nbformat_minor": 0,
  "metadata": {
    "colab": {
      "provenance": [],
      "authorship_tag": "ABX9TyMaXQ7NFIM/lXYe8ZB5nQj2",
      "include_colab_link": true
    },
    "kernelspec": {
      "name": "python3",
      "display_name": "Python 3"
    },
    "language_info": {
      "name": "python"
    }
  },
  "cells": [
    {
      "cell_type": "markdown",
      "metadata": {
        "id": "view-in-github",
        "colab_type": "text"
      },
      "source": [
        "<a href=\"https://colab.research.google.com/github/williamm6891/Test2/blob/master/Actividad_1_Herramientas_de_programaci%C3%B3n.ipynb\" target=\"_parent\"><img src=\"https://colab.research.google.com/assets/colab-badge.svg\" alt=\"Open In Colab\"/></a>"
      ]
    },
    {
      "cell_type": "markdown",
      "source": [
        "![Captura de pantalla 2023-09-26 082003.png](data:image/png;base64,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)"
      ],
      "metadata": {
        "id": "kv9cZ4hwpbm8"
      }
    },
    {
      "cell_type": "markdown",
      "source": [
        "# Actividad 1 📚\n",
        "\n",
        "## Información Básica\n",
        "\n",
        "- **Tema:** Datos estructurados\n",
        "  - *Subtema:*\n",
        "    1. Ejercicios con listas\n",
        "    2. Ejercicios con strings\n",
        "    3. Ejercicios con diccionarios\n",
        "    4. Ejercicios con dataframes\n",
        "- **Nombre:** Carolina Vásquez 🙋‍♀️\n",
        "- **Fecha:** 26-09-2023 📅\n",
        "\n",
        "## **Descripción** 🖊️\n",
        "\n",
        "En esta actividad, se manejará listas, strings, diccionarios y dataframes en Python. A través de ejercicios prácticos, utilizando recursos como Python y Google Colab.\n",
        "\n",
        "## **Objetivos** 🎯\n",
        "\n",
        "1. Mejorar la comprensión y manejo de listas en Python.\n",
        "2. Fortalecer habilidades de manipulación de strings en Python.\n",
        "3. Entender y practicar el uso de diccionarios en Python.\n",
        "4. Familiarización con la manipulación de dataframes en Python.\n",
        "\n",
        "## **Instrucciones** 🗂️\n",
        "\n",
        "1. Programar o resolver 10 diferentes ejercicios en Python 🐍 basádos en los subtemas listados.\n",
        "   - Utiliza [Python](https://www.python.org/) para programar los ejercicios.\n",
        "   - Puedes utilizar [Google Colab](https://colab.research.google.com/) para escribir y probar tu código.\n",
        "   - Consulta la [documentación oficial de Python](https://docs.python.org/3/) para cualquier duda o consulta adicional.\n",
        "\n",
        "## **Recursos Necesarios** 🛠️\n",
        "\n",
        "- [Python](https://www.python.org/)\n",
        "- [Google Colab](https://colab.research.google.com/)\n",
        "- [Documentación oficial de Python](https://docs.python.org/3/)\n",
        "- [Pandas para trabajar con DataFrames](https://pandas.pydata.org/)\n",
        "\n",
        "\n",
        "\n"
      ],
      "metadata": {
        "id": "E5DAdXmzqQku"
      }
    },
    {
      "cell_type": "markdown",
      "source": [
        "#**Ejercicio 1**"
      ],
      "metadata": {
        "id": "hQ7m0wy_5yNb"
      }
    },
    {
      "cell_type": "markdown",
      "source": [
        "**Identificador válido.** Para que los identificadores o nombres de las variables o funciones sean válidos deben comenzar e incluir letras a..z. (minúscula o mayúscula) o el guión bajo (_). Pueden incluir también números (0..9) pero que no sean el primer carácter del identificador. Diseña una función FirstChar(s) que, dado un string s (no vacío), nos devuelva True o False si el string es válido o no para identificar o dar nombre a una variable o función1. (0,5 puntos)"
      ],
      "metadata": {
        "id": "NiBt8_ih7gHF"
      }
    },
    {
      "cell_type": "code",
      "source": [
        "#Crea la función FirstChar(s)\n",
        "\n",
        "\"\"\"\n",
        "Define la función FirstChar(s) la cual contenga una condición if e indica si el parámetro de la función comienza con una letra, o, en su defecto, comience\n",
        "con un guión bajo \"_\", de ser así, el resultado es un TRUE \"Carolina\", caso contrario, la respuesta se imprima un FALSE \"$Carolina\"\n",
        "\"\"\"\n",
        "\n",
        "def FirstChar(s):\n",
        "    if s[0].isalpha() or s[0] == '_':\n",
        "        return True\n",
        "    return False\n",
        "\n",
        "# Probar la función:\n",
        "\n",
        "print(FirstChar(\"Carolina\"))  # Debería devolver True\n",
        "print(FirstChar(\"$Carolina\"))  # Debería devolver False\n"
      ],
      "metadata": {
        "colab": {
          "base_uri": "https://localhost:8080/"
        },
        "id": "5sIoA9uWqTQy",
        "outputId": "d780a381-05c3-4097-992d-db141c79ed6e"
      },
      "execution_count": 9,
      "outputs": [
        {
          "output_type": "stream",
          "name": "stdout",
          "text": [
            "True\n",
            "False\n"
          ]
        }
      ]
    },
    {
      "cell_type": "markdown",
      "source": [
        "#**Ejercicio 2**"
      ],
      "metadata": {
        "id": "iv6oQPx2-y4G"
      }
    },
    {
      "cell_type": "markdown",
      "source": [
        "**Porcentaje de vocales.** Escribe una función porcentVocal(s) en que dado un string s, la función devuelva el porcentaje de vocales que contiene el string. Deben considerarse vocales minúsculas y mayúsculas. Devolver el resultado con un decimal de precisión. Consideraremos que las vocales están sin tilde o acento gráfico. Se valorará prever el caso que se envíe como argumento un string vacío. (0,5 puntos)"
      ],
      "metadata": {
        "id": "DAgSt4IQ75lG"
      }
    },
    {
      "cell_type": "code",
      "source": [
        "#Crea la función de porcentaje de vocales dentro de un string\n",
        "\n",
        "\"\"\"\n",
        "Define la función PorcentajeVocal, la cual inicia verificando si la cadena ingresada está vacía. En caso de que la cadena esté vacía, la función retorna un valor de cero automáticamente.\n",
        "Si la cadena no está vacía, la función procede a la siguiente etapa. En esta etapa, se declara la variable vocales, la cual contiene todas las vocales en mayúsculas y minúsculas.\n",
        "Posteriormente, la función realiza una suma iterativa de las vocales presentes en la cadena ingresada. Esto se logra utilizando un bucle for, que recorre cada letra de la cadena.\n",
        "Durante cada iteración del bucle, se utiliza una condición if para verificar si la letra actual es una vocal (comprobando si la letra está presente en la variable vocales).\n",
        "Si la letra actual es una vocal, se incrementa un contador que lleva la cuenta del número total de vocales en la cadena ingresada.\n",
        "\n",
        "Una vez que se han contado todas las vocales en la cadena, la función calcula el porcentaje de vocales con respecto a la longitud total de la cadena. Este porcentaje se calcula dividiendo\n",
        "el número de vocales entre la longitud total de la cadena, y multiplicando el resultado por 100.\n",
        "\n",
        "Finalmente, la función PorcentajeVocal retorna el porcentaje de vocales, redondeado a un solo decimal, representando así el porcentaje exacto de vocales en la cadena ingresada.\n",
        "\"\"\"\n",
        "\n",
        "\n",
        "def PorcentajeVocal(s):\n",
        "    if not s:  # Verifica si la cadena está vacía\n",
        "        return 0.0\n",
        "\n",
        "    vocales = set(\"aeiouAEIOU\")\n",
        "    cuenta = 0 # Inicializo el contador en cero\n",
        "\n",
        "    # Recorrer cada letra en la cadena de entrada\n",
        "    for letra in s:\n",
        "        # Si la letra es una vocal, incrementar el contador\n",
        "        if letra in vocales:\n",
        "            cuenta += 1\n",
        "\n",
        "    # Calcular el porcentaje\n",
        "    porcentaje = (cuenta / len(s)) * 100\n",
        "\n",
        "    return round(porcentaje, 1)\n",
        "\n",
        "# Comprobar el funcionamiento de la función\n",
        "print(PorcentajeVocal(\"Hola\"))  # Debería devolver 50.0\n",
        "print(PorcentajeVocal(\"Hola me llamo Carolina Vásquez\"))  # Debería devolver 36.7"
      ],
      "metadata": {
        "colab": {
          "base_uri": "https://localhost:8080/"
        },
        "id": "TlpCeyHWr5hn",
        "outputId": "fa22b09f-45b7-448d-b39a-1efed2a5d280"
      },
      "execution_count": 10,
      "outputs": [
        {
          "output_type": "stream",
          "name": "stdout",
          "text": [
            "50.0\n",
            "36.7\n"
          ]
        }
      ]
    },
    {
      "cell_type": "markdown",
      "source": [
        "#**Ejercicio 3**"
      ],
      "metadata": {
        "id": "c9m-ZCu6PO9J"
      }
    },
    {
      "cell_type": "markdown",
      "source": [
        "**Calcula código.** Dado un string s que contiene los nombres y apellidos de una persona, diseña la\n",
        "función codigo(s) que devuelva el string ini + str(count), donde ini contiene las iniciales de la persona (las letras mayúsculas de s) y count es el número total de letras de sus nombres y apellidos (es decir, las letras de s sin contar caracteres blancos o espacios). (1 punto)"
      ],
      "metadata": {
        "id": "_LZGNQHWPSHZ"
      }
    },
    {
      "cell_type": "code",
      "source": [
        "# Calcula código de strings para iniciales de nombre y apellido y cuenta palabras\n",
        "\n",
        "\"\"\"\n",
        "En el proceso de creación de la función 'codigo', inicialmente se establece un string vacío denominado 'ini', donde se almacenarán las letras mayúsculas, consideradas como iniciales.\n",
        "Posteriormente, el algoritmo itera a través de cada caracter en el string proporcionado 's', en este caso \"Carolina Vásquez\". Durante cada iteración, el programa verifica si el caracter\n",
        "actual es una letra mayúscula.\n",
        "\n",
        "Si es así, este caracter se añade al string 'ini'. Después de iterar a través de todos los caracteres, el programa calcula el número total de letras en 's' (excluyendo los espacios en blanco)\n",
        "al reemplazar estos espacios con una cadena vacía y contar el número de caracteres restantes. Este número se denota como 'count'.\n",
        "\n",
        "Por último, la función retorna el string 'ini', en este caso \"CV\" concatenado con 'count', en este caso 15, proporcionando las iniciales, más un espacio en blanco y la longitud del nombre\n",
        "\n",
        "\"\"\"\n",
        "\n",
        "def codigo(s):\n",
        "    ini = ''  # Inicializar un string vacío para almacenar las iniciales\n",
        "    for char in s:  # Iterar a través de cada caracter en el string s\n",
        "        if char.isupper():  # Si el caracter es mayúscula, se lo añadimos al string ini\n",
        "            ini += char\n",
        "\n",
        "    count = len(s.replace(' ', ''))  # Contar el número de letras (sin espacios)\n",
        "    return ini + \" \" + str(count)\n",
        "\n",
        "# Ejemplo de uso\n",
        "resultado = codigo(\"Carolina Vásquez\")\n",
        "print(resultado)\n"
      ],
      "metadata": {
        "colab": {
          "base_uri": "https://localhost:8080/"
        },
        "id": "ABFp7kAPPMIY",
        "outputId": "3016bac1-9fda-4e69-eeb7-661589a2e577"
      },
      "execution_count": 15,
      "outputs": [
        {
          "output_type": "stream",
          "name": "stdout",
          "text": [
            "CV 15\n"
          ]
        }
      ]
    },
    {
      "cell_type": "markdown",
      "source": [
        "#**Ejercicio 4**"
      ],
      "metadata": {
        "id": "KbWB7YzrTqyO"
      }
    },
    {
      "cell_type": "markdown",
      "source": [
        "**Diseña la función mediaTempRang(lst)** en que, dada una lista lst de medidas de temperatura en ºC de un experimento, calcule y devuelva el valor medio de aquellas temperaturas de la lista que estén en el rango de 15 a 45 ºC, inclusive [15, 45]. Devolver el resultado redondeado a 2 cifras decimales.\n",
        "\n",
        "También considerar el caso en que ninguna medida de temperatura de la lista esté en el rango dado. En este caso la función devuelve el valor -1. (1 punto)\n"
      ],
      "metadata": {
        "id": "fAoTo7TXTw6m"
      }
    },
    {
      "cell_type": "code",
      "source": [
        "# Define la función de temperatura media de un rango dado\n",
        "\n",
        "\"\"\"\n",
        "En este código, se inicia una lista vacía, temp_rango, que almacenará las temperaturas entre 15°C y 45°C de la lista lst.\n",
        "Mediante un bucle, se revisa cada temperatura temp en lst. Si temp está en el rango deseado, se añade a temp_rango usando append().\n",
        "\n",
        "Posteriormente, se verifica si temp_rango tiene elementos. Si está vacía, se retorna -1, indicando que no había temperaturas en el rango especificado en lst.\n",
        "En caso contrario, se calcula y retorna la media de temp_rango, redondeada a dos cifras decimales, como el resultado final de mediaTempRang().\n",
        "\n",
        "\"\"\"\n",
        "\n",
        "\n",
        "def mediaTempRang(lst):\n",
        "    # Inicializa una lista vacía para almacenar las temperaturas en el rango [15, 45]\n",
        "    temp_rango = []\n",
        "\n",
        "    # Itera sobre cada temperatura en la lista de entrada\n",
        "    for temp in lst:\n",
        "        # Verifica si la temperatura actual está en el rango [15, 45]\n",
        "        if 15 <= temp <= 45:\n",
        "            # Si es así, añade la temperatura a la lista temp_rango\n",
        "            temp_rango.append(temp)\n",
        "\n",
        "    # Si no hay temperaturas en el rango, retorna -1\n",
        "    if not temp_rango:\n",
        "        return -1\n",
        "\n",
        "    # Calcula la media de las temperaturas en el rango\n",
        "    media = sum(temp_rango) / len(temp_rango)\n",
        "\n",
        "    # Retorna la media redondeada a 2 cifras decimales\n",
        "    return round(media, 2)\n",
        "\n",
        "# Ejemplo de uso\n",
        "#resultado = mediaTempRang([10, 20, 30, 40, 50])\n",
        "resultado = mediaTempRang([10, 14, 46, 48, 50])\n",
        "print(resultado)\n"
      ],
      "metadata": {
        "colab": {
          "base_uri": "https://localhost:8080/"
        },
        "id": "bj1fW_sVTokj",
        "outputId": "de1247a9-3f93-4579-a361-220b589a9d77"
      },
      "execution_count": 17,
      "outputs": [
        {
          "output_type": "stream",
          "name": "stdout",
          "text": [
            "-1\n"
          ]
        }
      ]
    }
  ]
}