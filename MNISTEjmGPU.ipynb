{
 "cells": [
  {
   "cell_type": "code",
   "execution_count": 1,
   "metadata": {},
   "outputs": [
    {
     "name": "stdout",
     "output_type": "stream",
     "text": [
      "Versión de tensorflow:2.11.0\n",
      "GPU:\n"
     ]
    }
   ],
   "source": [
    "import tensorflow as tf\n",
    "\n",
    "print(\"Versión de tensorflow:{}\".format(tf.__version__))\n",
    "print(\"GPU:{}\".format(tf.test.gpu_device_name()))"
   ]
  },
  {
   "cell_type": "code",
   "execution_count": 2,
   "metadata": {},
   "outputs": [],
   "source": [
    "import keras\n",
    "import numpy as np\n",
    "import matplotlib.pyplot as plt"
   ]
  },
  {
   "cell_type": "code",
   "execution_count": 3,
   "metadata": {},
   "outputs": [],
   "source": [
    "fashion_mnist = keras.datasets.fashion_mnist\n",
    "(train_images, train_labels), (test_images, test_labels) = fashion_mnist.load_data()"
   ]
  },
  {
   "cell_type": "code",
   "execution_count": 4,
   "metadata": {},
   "outputs": [],
   "source": [
    "class_names = ['Camiseta','Pantalón','Suéter','Vestido','Abrigo','Sandalia','Camisa','Zapatilla deportiva','Bolso','Botines']"
   ]
  },
  {
   "cell_type": "code",
   "execution_count": 5,
   "metadata": {},
   "outputs": [
    {
     "data": {
      "image/png": "[encoded data removed]",
      "text/plain": [
       "<Figure size 640x480 with 1 Axes>"
      ]
     },
     "metadata": {},
     "output_type": "display_data"
    },
    {
     "name": "stdout",
     "output_type": "stream",
     "text": [
      "Botines\n",
      "(28, 28)\n"
     ]
    }
   ],
   "source": [
    "plt.imshow(train_images[11])\n",
    "plt.grid(False)\n",
    "plt.show()\n",
    "print(class_names[train_labels[11]])\n",
    "print(train_images[11].shape)"
   ]
  },
  {
   "cell_type": "code",
   "execution_count": 6,
   "metadata": {},
   "outputs": [],
   "source": [
    "model = keras.Sequential([\n",
    " keras.layers.Flatten(input_shape=(28,28)),\n",
    " keras.layers.Dense(150, activation='relu'),\n",
    " keras.layers.Dense(10, activation='softmax')\n",
    "])"
   ]
  },
  {
   "cell_type": "code",
   "execution_count": 7,
   "metadata": {},
   "outputs": [],
   "source": [
    "model.compile(optimizer = 'adadelta',loss = 'sparse_categorical_crossentropy',metrics=['accuracy'])"
   ]
  },
  {
   "cell_type": "code",
   "execution_count": 8,
   "metadata": {},
   "outputs": [
    {
     "name": "stdout",
     "output_type": "stream",
     "text": [
      "Model: \"sequential\"\n",
      "_________________________________________________________________\n",
      " Layer (type)                Output Shape              Param #   \n",
      "=================================================================\n",
      " flatten (Flatten)           (None, 784)               0         \n",
      "                                                                 \n",
      " dense (Dense)               (None, 150)               117750    \n",
      "                                                                 \n",
      " dense_1 (Dense)             (None, 10)                1510      \n",
      "                                                                 \n",
      "=================================================================\n",
      "Total params: 119,260\n",
      "Trainable params: 119,260\n",
      "Non-trainable params: 0\n",
      "_________________________________________________________________\n"
     ]
    }
   ],
   "source": [
    "model.summary()"
   ]
  },
  {
   "cell_type": "code",
   "execution_count": 9,
   "metadata": {},
   "outputs": [
    {
     "name": "stdout",
     "output_type": "stream",
     "text": [
      "Epoch 1/50\n",
      "5000/5000 [==============================] - 15s 3ms/step - loss: 68.5506 - accuracy: 0.2987\n",
      "Epoch 2/50\n",
      "5000/5000 [==============================] - 14s 3ms/step - loss: 28.7751 - accuracy: 0.5034\n",
      "Epoch 3/50\n",
      "5000/5000 [==============================] - 12s 2ms/step - loss: 21.9214 - accuracy: 0.5639\n",
      "Epoch 4/50\n",
      "5000/5000 [==============================] - 12s 2ms/step - loss: 18.2940 - accuracy: 0.5994\n",
      "Epoch 5/50\n",
      "5000/5000 [==============================] - 12s 2ms/step - loss: 16.0035 - accuracy: 0.6267\n",
      "Epoch 6/50\n",
      "5000/5000 [==============================] - 12s 2ms/step - loss: 14.4323 - accuracy: 0.6485\n",
      "Epoch 7/50\n",
      "5000/5000 [==============================] - 13s 3ms/step - loss: 13.2446 - accuracy: 0.6650\n",
      "Epoch 8/50\n",
      "5000/5000 [==============================] - 11s 2ms/step - loss: 12.3080 - accuracy: 0.6775\n",
      "Epoch 9/50\n",
      "5000/5000 [==============================] - 10s 2ms/step - loss: 11.5668 - accuracy: 0.6875\n",
      "Epoch 10/50\n",
      "5000/5000 [==============================] - 12s 2ms/step - loss: 10.9607 - accuracy: 0.6967\n",
      "Epoch 11/50\n",
      "5000/5000 [==============================] - 12s 2ms/step - loss: 10.4534 - accuracy: 0.7034\n",
      "Epoch 12/50\n",
      "5000/5000 [==============================] - 11s 2ms/step - loss: 10.0143 - accuracy: 0.7096\n",
      "Epoch 13/50\n",
      "5000/5000 [==============================] - 12s 2ms/step - loss: 9.6281 - accuracy: 0.7172\n",
      "Epoch 14/50\n",
      "5000/5000 [==============================] - 11s 2ms/step - loss: 9.2953 - accuracy: 0.7219\n",
      "Epoch 15/50\n",
      "5000/5000 [==============================] - 11s 2ms/step - loss: 8.9898 - accuracy: 0.7266\n",
      "Epoch 16/50\n",
      "5000/5000 [==============================] - 12s 2ms/step - loss: 8.7141 - accuracy: 0.7314\n",
      "Epoch 17/50\n",
      "5000/5000 [==============================] - 13s 3ms/step - loss: 8.4573 - accuracy: 0.7349\n",
      "Epoch 18/50\n",
      "5000/5000 [==============================] - 15s 3ms/step - loss: 8.2171 - accuracy: 0.7381\n",
      "Epoch 19/50\n",
      "5000/5000 [==============================] - 14s 3ms/step - loss: 7.9970 - accuracy: 0.7403\n",
      "Epoch 20/50\n",
      "5000/5000 [==============================] - 14s 3ms/step - loss: 7.7920 - accuracy: 0.7423\n",
      "Epoch 21/50\n",
      "5000/5000 [==============================] - 14s 3ms/step - loss: 7.6032 - accuracy: 0.7449\n",
      "Epoch 22/50\n",
      "5000/5000 [==============================] - 15s 3ms/step - loss: 7.4264 - accuracy: 0.7469\n",
      "Epoch 23/50\n",
      "5000/5000 [==============================] - 39s 8ms/step - loss: 7.2636 - accuracy: 0.7490\n",
      "Epoch 24/50\n",
      "5000/5000 [==============================] - 37s 7ms/step - loss: 7.1124 - accuracy: 0.7515\n",
      "Epoch 25/50\n",
      "5000/5000 [==============================] - 37s 7ms/step - loss: 6.9736 - accuracy: 0.7532\n",
      "Epoch 26/50\n",
      "5000/5000 [==============================] - 38s 8ms/step - loss: 6.8444 - accuracy: 0.7552\n",
      "Epoch 27/50\n",
      "5000/5000 [==============================] - 37s 7ms/step - loss: 6.7206 - accuracy: 0.7564\n",
      "Epoch 28/50\n",
      "5000/5000 [==============================] - 39s 8ms/step - loss: 6.6056 - accuracy: 0.7588\n",
      "Epoch 29/50\n",
      "5000/5000 [==============================] - 38s 8ms/step - loss: 6.4944 - accuracy: 0.7599\n",
      "Epoch 30/50\n",
      "5000/5000 [==============================] - 38s 8ms/step - loss: 6.3913 - accuracy: 0.7612\n",
      "Epoch 31/50\n",
      "5000/5000 [==============================] - 37s 7ms/step - loss: 6.2984 - accuracy: 0.7632\n",
      "Epoch 32/50\n",
      "5000/5000 [==============================] - 37s 7ms/step - loss: 6.2029 - accuracy: 0.7643\n",
      "Epoch 33/50\n",
      "5000/5000 [==============================] - 41s 8ms/step - loss: 6.1142 - accuracy: 0.7653\n",
      "Epoch 34/50\n",
      "5000/5000 [==============================] - 49s 10ms/step - loss: 6.0279 - accuracy: 0.7663\n",
      "Epoch 35/50\n",
      "5000/5000 [==============================] - 36s 7ms/step - loss: 5.9443 - accuracy: 0.7677\n",
      "Epoch 36/50\n",
      "5000/5000 [==============================] - 29s 6ms/step - loss: 5.8643 - accuracy: 0.7693\n",
      "Epoch 37/50\n",
      "5000/5000 [==============================] - 28s 6ms/step - loss: 5.7931 - accuracy: 0.7702\n",
      "Epoch 38/50\n",
      "5000/5000 [==============================] - 28s 6ms/step - loss: 5.7217 - accuracy: 0.7715\n",
      "Epoch 39/50\n",
      "5000/5000 [==============================] - 31s 6ms/step - loss: 5.6488 - accuracy: 0.7729\n",
      "Epoch 40/50\n",
      "5000/5000 [==============================] - 28s 6ms/step - loss: 5.5862 - accuracy: 0.7739\n",
      "Epoch 41/50\n",
      "5000/5000 [==============================] - 30s 6ms/step - loss: 5.5208 - accuracy: 0.7745\n",
      "Epoch 42/50\n",
      "5000/5000 [==============================] - 30s 6ms/step - loss: 5.4596 - accuracy: 0.7765\n",
      "Epoch 43/50\n",
      "5000/5000 [==============================] - 39s 8ms/step - loss: 5.3994 - accuracy: 0.7764\n",
      "Epoch 44/50\n",
      "5000/5000 [==============================] - 33s 7ms/step - loss: 5.3419 - accuracy: 0.7776\n",
      "Epoch 45/50\n",
      "5000/5000 [==============================] - 30s 6ms/step - loss: 5.2859 - accuracy: 0.7789\n",
      "Epoch 46/50\n",
      "5000/5000 [==============================] - 28s 6ms/step - loss: 5.2327 - accuracy: 0.7797\n",
      "Epoch 47/50\n",
      "5000/5000 [==============================] - 29s 6ms/step - loss: 5.1798 - accuracy: 0.7806\n",
      "Epoch 48/50\n",
      "5000/5000 [==============================] - 29s 6ms/step - loss: 5.1277 - accuracy: 0.7813\n",
      "Epoch 49/50\n",
      "5000/5000 [==============================] - 33s 7ms/step - loss: 5.0775 - accuracy: 0.7820\n",
      "Epoch 50/50\n",
      "5000/5000 [==============================] - 30s 6ms/step - loss: 5.0309 - accuracy: 0.7836\n"
     ]
    },
    {
     "data": {
      "text/plain": [
       "<keras.callbacks.History at 0x2452afb16a0>"
      ]
     },
     "execution_count": 9,
     "metadata": {},
     "output_type": "execute_result"
    }
   ],
   "source": [
    "model.fit(train_images,train_labels, batch_size=12, epochs=50)"
   ]
  },
  {
   "cell_type": "code",
   "execution_count": 10,
   "metadata": {},
   "outputs": [
    {
     "name": "stdout",
     "output_type": "stream",
     "text": [
      "313/313 [==============================] - 2s 4ms/step - loss: 5.5671 - accuracy: 0.7694\n",
      "Test: 0.7694000005722046\n"
     ]
    }
   ],
   "source": [
    "test_loss, test_acc = model.evaluate(test_images, test_labels)\n",
    "print('Test:', test_acc)"
   ]
  },
  {
   "cell_type": "code",
   "execution_count": 29,
   "metadata": {},
   "outputs": [
    {
     "name": "stdout",
     "output_type": "stream",
     "text": [
      "313/313 [==============================] - 1s 4ms/step\n",
      "Vestido\n"
     ]
    },
    {
     "data": {
      "image/png": "[encoded data removed]",
      "text/plain": [
       "<Figure size 640x480 with 1 Axes>"
      ]
     },
     "metadata": {},
     "output_type": "display_data"
    }
   ],
   "source": [
    "predictions = model.predict(test_images)\n",
    "img_predict =predictions[100]\n",
    "print(class_names[np.argmax(img_predict)])\n",
    "plt.imshow(test_images[100])\n",
    "plt.grid(False)\n",
    "plt.show()"
   ]
  },
  {
   "cell_type": "code",
   "execution_count": null,
   "metadata": {},
   "outputs": [],
   "source": []
  }
 ],
 "metadata": {
  "kernelspec": {
   "display_name": "entornoGPU",
   "language": "python",
   "name": "entornogpu"
  },
  "language_info": {
   "codemirror_mode": {
    "name": "ipython",
    "version": 3
   },
   "file_extension": ".py",
   "mimetype": "text/x-python",
   "name": "python",
   "nbconvert_exporter": "python",
   "pygments_lexer": "ipython3",
   "version": "3.7.7"
  }
 },
 "nbformat": 4,
 "nbformat_minor": 4
}
